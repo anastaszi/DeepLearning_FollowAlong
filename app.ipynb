{
 "cells": [
  {
   "cell_type": "code",
   "execution_count": 25,
   "metadata": {},
   "outputs": [],
   "source": [
    "import warnings\n",
    "warnings.filterwarnings('ignore')\n",
    "from IPython.display import Markdown"
   ]
  },
  {
   "cell_type": "code",
   "execution_count": 10,
   "metadata": {},
   "outputs": [],
   "source": [
    "from crewai import Agent, Task, Crew\n",
    "from utils.j_utils import load_env_vars\n",
    "from utils.ui_utils import load_json\n",
    "from langchain_openai import ChatOpenAI\n",
    "import langchain_groq\n",
    "from langchain_groq import ChatGroq\n",
    "secrets_path = '.streamlit/secrets.toml'\n",
    "research_data_path = 'data/research_example.json'"
   ]
  },
  {
   "cell_type": "code",
   "execution_count": 4,
   "metadata": {},
   "outputs": [],
   "source": [
    "\n",
    "groq_key = load_env_vars(secrets_path, \"GROQ_API_KEY\")\n",
    "research_data = load_json(research_data_path)"
   ]
  },
  {
   "cell_type": "code",
   "execution_count": 13,
   "metadata": {},
   "outputs": [],
   "source": [
    "#OPEN AI DATA\n",
    "model = \"gpt-3.5-turbo\"\n",
    "api_key = load_env_vars(secrets_path, \"OPENAI_API_KEY\")\n",
    "llm = ChatOpenAI(openai_api_key=api_key, model=model)"
   ]
  },
  {
   "cell_type": "code",
   "execution_count": 12,
   "metadata": {},
   "outputs": [],
   "source": [
    "#GROQ DATA\n",
    "model = \"llama3-70b-8192\"\n",
    "api_key = load_env_vars(secrets_path, \"GROQ_API_KEY\")\n",
    "llm = ChatGroq(groq_api_key=api_key, model_name=model)"
   ]
  },
  {
   "cell_type": "markdown",
   "metadata": {},
   "source": [
    "### Agents"
   ]
  },
  {
   "cell_type": "code",
   "execution_count": 21,
   "metadata": {},
   "outputs": [],
   "source": [
    "planner = Agent(\n",
    "    role=research_data['agents'][0]['role'],\n",
    "    goal=research_data['agents'][0]['goal'],\n",
    "    backstory=research_data['agents'][0]['backstory'],\n",
    "    allow_delegation=False,\n",
    "    verbose=True, \n",
    "    llm=llm\n",
    ")\n",
    "writer = Agent(\n",
    "    role=research_data['agents'][1]['role'],\n",
    "    goal=research_data['agents'][1]['goal'],\n",
    "    backstory=research_data['agents'][1]['backstory'],\n",
    "    allow_delegation=False,\n",
    "    verbose=True, \n",
    "    llm=llm\n",
    ")\n",
    "editor = Agent(\n",
    "    role=research_data['agents'][2]['role'],\n",
    "    goal=research_data['agents'][2]['goal'],\n",
    "    backstory=research_data['agents'][2]['backstory'],\n",
    "    allow_delegation=False,\n",
    "    verbose=True, \n",
    "    llm=llm\n",
    ")"
   ]
  },
  {
   "cell_type": "markdown",
   "metadata": {},
   "source": [
    "### Tasks"
   ]
  },
  {
   "cell_type": "code",
   "execution_count": 23,
   "metadata": {},
   "outputs": [],
   "source": [
    "plan = Task(\n",
    "    description=research_data['tasks'][0]['description'],\n",
    "    expected_output=research_data['tasks'][0]['expected_output'],\n",
    "    agent=planner\n",
    ")\n",
    "write = Task(\n",
    "    description=research_data['tasks'][1]['description'],\n",
    "    expected_output=research_data['tasks'][1]['expected_output'],\n",
    "    agent=writer\n",
    ")\n",
    "edit= Task(\n",
    "    description=research_data['tasks'][2]['description'],\n",
    "    expected_output=research_data['tasks'][2]['expected_output'],\n",
    "    agent=editor\n",
    ")"
   ]
  },
  {
   "cell_type": "markdown",
   "metadata": {},
   "source": [
    "### CREW"
   ]
  },
  {
   "cell_type": "code",
   "execution_count": 29,
   "metadata": {},
   "outputs": [
    {
     "name": "stderr",
     "output_type": "stream",
     "text": [
      "2024-06-10 14:31:56,637 - 8268270592 - __init__.py-__init__:518 - WARNING: Overriding of current TracerProvider is not allowed\n"
     ]
    }
   ],
   "source": [
    "crew = Crew(\n",
    "    agents=[planner, writer, editor],\n",
    "    tasks=[plan, write, edit],\n",
    "    verbose=0\n",
    ")"
   ]
  },
  {
   "cell_type": "code",
   "execution_count": 30,
   "metadata": {},
   "outputs": [
    {
     "name": "stdout",
     "output_type": "stream",
     "text": [
      "\n",
      "\n",
      "\u001b[1m> Entering new CrewAgentExecutor chain...\u001b[0m\n",
      "\u001b[32;1m\u001b[1;3mI now can give a great answer\n",
      "\n",
      "Final Answer:\n",
      "Content Plan Document\n",
      "\n",
      "Title: The Rise of Artificial Intelligence: Latest Trends and Key Players\n",
      "\n",
      "Introduction:\n",
      "- Brief overview of Artificial Intelligence (AI) and its impact on various industries\n",
      "- Introduction of the latest trends and key players in the AI field\n",
      "\n",
      "Key Points:\n",
      "1. Latest Trends in Artificial Intelligence:\n",
      "- Machine Learning: Discuss the advancements in machine learning algorithms and their applications\n",
      "- Natural Language Processing: Explore the latest developments in NLP and its impact on chatbots and virtual assistants\n",
      "- Computer Vision: Highlight the progress in computer vision technology and its applications in image recognition and autonomous vehicles\n",
      "\n",
      "2. Key Players in the AI Industry:\n",
      "- Google: Discuss Google's AI initiatives such as Google Assistant and DeepMind\n",
      "- Amazon: Explore Amazon's AI technologies like Alexa and recommendation systems\n",
      "- Tesla: Highlight Tesla's use of AI in self-driving cars and energy optimization\n",
      "\n",
      "3. Noteworthy News in Artificial Intelligence:\n",
      "- Recent breakthroughs in AI research\n",
      "- Impact of AI on job automation and workforce changes\n",
      "- Ethical considerations in AI development and deployment\n",
      "\n",
      "Audience Analysis:\n",
      "- Target Audience: Tech enthusiasts, business professionals, and students interested in AI\n",
      "- Interests: Cutting-edge technology, innovation, future trends\n",
      "- Pain Points: Understanding the complexities of AI, staying updated on the latest advancements\n",
      "\n",
      "SEO Keywords:\n",
      "- Artificial Intelligence trends 2021\n",
      "- Key players in AI industry\n",
      "- Latest news in Artificial Intelligence\n",
      "- Machine learning advancements\n",
      "- Impact of AI on industries\n",
      "\n",
      "Resources:\n",
      "- Sources: TechCrunch, Forbes, Wired\n",
      "- Research Papers: \"The State of Artificial Intelligence\" by McKinsey & Company\n",
      "- Industry Reports: Gartner's AI Trends Report\n",
      "- Case Studies: Success stories of companies implementing AI technologies\n",
      "\n",
      "Call to Action:\n",
      "- Encourage readers to stay informed about AI trends by subscribing to industry newsletters and following reputable sources\n",
      "- Invite readers to share their thoughts on AI advancements and engage in discussions on social media platforms\n",
      "\n",
      "Overall, this content plan aims to provide a comprehensive overview of the latest trends and key players in the AI industry, catering to the interests and pain points of the target audience while incorporating relevant SEO keywords and credible resources for further reading.\u001b[0m\n",
      "\n",
      "\u001b[1m> Finished chain.\u001b[0m\n",
      "\n",
      "\n",
      "\u001b[1m> Entering new CrewAgentExecutor chain...\u001b[0m\n",
      "\u001b[32;1m\u001b[1;3mI now can give a great answer\n",
      "\n",
      "Final Answer:\n",
      "\n",
      "# The Rise of Artificial Intelligence: Latest Trends and Key Players\n",
      "\n",
      "## Introduction\n",
      "Artificial Intelligence (AI) has revolutionized various industries, making processes more efficient and enabling innovative solutions. The latest trends in AI are shaping the future of technology, with key players driving advancements in machine learning, natural language processing, and computer vision.\n",
      "\n",
      "## Latest Trends in Artificial Intelligence\n",
      "### Machine Learning\n",
      "One of the most significant trends in AI is the rapid advancement of machine learning algorithms. Companies are leveraging machine learning to improve decision-making processes, optimize operations, and personalize customer experiences. From recommendation systems to predictive analytics, machine learning is at the forefront of AI innovation.\n",
      "\n",
      "### Natural Language Processing\n",
      "Another key trend in AI is the development of natural language processing (NLP) technologies. NLP enables machines to understand and interpret human language, leading to the rise of chatbots and virtual assistants. The latest developments in NLP have enhanced conversational AI capabilities, making interactions more seamless and intuitive.\n",
      "\n",
      "### Computer Vision\n",
      "Advancements in computer vision technology have transformed the way machines perceive and analyze visual information. From image recognition to autonomous vehicles, computer vision is revolutionizing industries such as healthcare, automotive, and retail. The progress in computer vision algorithms is paving the way for enhanced safety, efficiency, and decision-making processes.\n",
      "\n",
      "## Key Players in the AI Industry\n",
      "### Google\n",
      "Google is a major player in the AI industry, with initiatives such as Google Assistant and DeepMind pushing the boundaries of AI capabilities. Google's AI technologies are integrated into various products and services, enhancing user experiences and driving innovation across different sectors.\n",
      "\n",
      "### Amazon\n",
      "Amazon is at the forefront of AI innovation, with technologies like Alexa and recommendation systems reshaping the e-commerce landscape. By leveraging AI, Amazon provides personalized recommendations, streamlined shopping experiences, and efficient logistics operations. The company's AI initiatives continue to set new standards for customer engagement and satisfaction.\n",
      "\n",
      "### Tesla\n",
      "Tesla's use of AI in self-driving cars and energy optimization is setting new benchmarks for autonomous vehicles and sustainable energy solutions. By incorporating AI technologies into its products, Tesla is revolutionizing transportation and energy sectors, paving the way for a future powered by intelligent systems.\n",
      "\n",
      "## Noteworthy News in Artificial Intelligence\n",
      "### Recent Breakthroughs in AI Research\n",
      "Researchers are constantly pushing the boundaries of AI through groundbreaking discoveries and innovations. From advancements in deep learning to ethical considerations in AI development, the latest news in AI research is shaping the future of technology and society.\n",
      "\n",
      "### Impact of AI on Job Automation\n",
      "As AI technologies continue to evolve, the impact on job automation and workforce changes is a significant consideration. Companies are adopting AI to streamline operations, leading to shifts in job roles and skill requirements. Understanding the implications of AI on the workforce is crucial for navigating the future of work.\n",
      "\n",
      "### Ethical Considerations in AI Development\n",
      "Ethical considerations in AI development and deployment are essential for ensuring responsible and sustainable AI solutions. From bias in algorithms to data privacy concerns, addressing ethical challenges in AI is crucial for building trust and transparency in AI systems.\n",
      "\n",
      "## Conclusion\n",
      "The rise of Artificial Intelligence is reshaping industries and driving innovation across various sectors. By exploring the latest trends and key players in the AI industry, we gain insights into the future of technology and the transformative power of intelligent systems. Stay informed about AI trends and engage in discussions to be part of the evolving landscape of Artificial Intelligence.\u001b[0m\n",
      "\n",
      "\u001b[1m> Finished chain.\u001b[0m\n",
      "\n",
      "\n",
      "\u001b[1m> Entering new CrewAgentExecutor chain...\u001b[0m\n",
      "\u001b[32;1m\u001b[1;3mI now can give a great answer\n",
      "\n",
      "Final Answer: \n",
      "\n",
      "# The Rise of Artificial Intelligence: Latest Trends and Key Players\n",
      "\n",
      "## Introduction\n",
      "Artificial Intelligence (AI) has revolutionized various industries, making processes more efficient and enabling innovative solutions. The latest trends in AI are shaping the future of technology, with key players driving advancements in machine learning, natural language processing, and computer vision.\n",
      "\n",
      "## Latest Trends in Artificial Intelligence\n",
      "### Machine Learning\n",
      "One of the most significant trends in AI is the rapid advancement of machine learning algorithms. Companies are leveraging machine learning to improve decision-making processes, optimize operations, and personalize customer experiences. From recommendation systems to predictive analytics, machine learning is at the forefront of AI innovation.\n",
      "\n",
      "### Natural Language Processing\n",
      "Another key trend in AI is the development of natural language processing (NLP) technologies. NLP enables machines to understand and interpret human language, leading to the rise of chatbots and virtual assistants. The latest developments in NLP have enhanced conversational AI capabilities, making interactions more seamless and intuitive.\n",
      "\n",
      "### Computer Vision\n",
      "Advancements in computer vision technology have transformed the way machines perceive and analyze visual information. From image recognition to autonomous vehicles, computer vision is revolutionizing industries such as healthcare, automotive, and retail. The progress in computer vision algorithms is paving the way for enhanced safety, efficiency, and decision-making processes.\n",
      "\n",
      "## Key Players in the AI Industry\n",
      "### Google\n",
      "Google is a major player in the AI industry, with initiatives such as Google Assistant and DeepMind pushing the boundaries of AI capabilities. Google's AI technologies are integrated into various products and services, enhancing user experiences and driving innovation across different sectors.\n",
      "\n",
      "### Amazon\n",
      "Amazon is at the forefront of AI innovation, with technologies like Alexa and recommendation systems reshaping the e-commerce landscape. By leveraging AI, Amazon provides personalized recommendations, streamlined shopping experiences, and efficient logistics operations. The company's AI initiatives continue to set new standards for customer engagement and satisfaction.\n",
      "\n",
      "### Tesla\n",
      "Tesla's use of AI in self-driving cars and energy optimization is setting new benchmarks for autonomous vehicles and sustainable energy solutions. By incorporating AI technologies into its products, Tesla is revolutionizing transportation and energy sectors, paving the way for a future powered by intelligent systems.\n",
      "\n",
      "## Noteworthy News in Artificial Intelligence\n",
      "### Recent Breakthroughs in AI Research\n",
      "Researchers are constantly pushing the boundaries of AI through groundbreaking discoveries and innovations. From advancements in deep learning to ethical considerations in AI development, the latest news in AI research is shaping the future of technology and society.\n",
      "\n",
      "### Impact of AI on Job Automation\n",
      "As AI technologies continue to evolve, the impact on job automation and workforce changes is a significant consideration. Companies are adopting AI to streamline operations, leading to shifts in job roles and skill requirements. Understanding the implications of AI on the workforce is crucial for navigating the future of work.\n",
      "\n",
      "### Ethical Considerations in AI Development\n",
      "Ethical considerations in AI development and deployment are essential for ensuring responsible and sustainable AI solutions. From bias in algorithms to data privacy concerns, addressing ethical challenges in AI is crucial for building trust and transparency in AI systems.\n",
      "\n",
      "## Conclusion\n",
      "The rise of Artificial Intelligence is reshaping industries and driving innovation across various sectors. By exploring the latest trends and key players in the AI industry, we gain insights into the future of technology and the transformative power of intelligent systems. Stay informed about AI trends and engage in discussions to be part of the evolving landscape of Artificial Intelligence.\u001b[0m\n",
      "\n",
      "\u001b[1m> Finished chain.\u001b[0m\n"
     ]
    }
   ],
   "source": [
    "result = crew.kickoff(\n",
    "    inputs={\"topic\": \"Artificial Intelligents\"}\n",
    ")"
   ]
  },
  {
   "cell_type": "code",
   "execution_count": 31,
   "metadata": {},
   "outputs": [
    {
     "name": "stdout",
     "output_type": "stream",
     "text": [
      "Model: gpt-3.5-turbo\n"
     ]
    },
    {
     "data": {
      "text/markdown": [
       "# The Rise of Artificial Intelligence: Latest Trends and Key Players\n",
       "\n",
       "## Introduction\n",
       "Artificial Intelligence (AI) has revolutionized various industries, making processes more efficient and enabling innovative solutions. The latest trends in AI are shaping the future of technology, with key players driving advancements in machine learning, natural language processing, and computer vision.\n",
       "\n",
       "## Latest Trends in Artificial Intelligence\n",
       "### Machine Learning\n",
       "One of the most significant trends in AI is the rapid advancement of machine learning algorithms. Companies are leveraging machine learning to improve decision-making processes, optimize operations, and personalize customer experiences. From recommendation systems to predictive analytics, machine learning is at the forefront of AI innovation.\n",
       "\n",
       "### Natural Language Processing\n",
       "Another key trend in AI is the development of natural language processing (NLP) technologies. NLP enables machines to understand and interpret human language, leading to the rise of chatbots and virtual assistants. The latest developments in NLP have enhanced conversational AI capabilities, making interactions more seamless and intuitive.\n",
       "\n",
       "### Computer Vision\n",
       "Advancements in computer vision technology have transformed the way machines perceive and analyze visual information. From image recognition to autonomous vehicles, computer vision is revolutionizing industries such as healthcare, automotive, and retail. The progress in computer vision algorithms is paving the way for enhanced safety, efficiency, and decision-making processes.\n",
       "\n",
       "## Key Players in the AI Industry\n",
       "### Google\n",
       "Google is a major player in the AI industry, with initiatives such as Google Assistant and DeepMind pushing the boundaries of AI capabilities. Google's AI technologies are integrated into various products and services, enhancing user experiences and driving innovation across different sectors.\n",
       "\n",
       "### Amazon\n",
       "Amazon is at the forefront of AI innovation, with technologies like Alexa and recommendation systems reshaping the e-commerce landscape. By leveraging AI, Amazon provides personalized recommendations, streamlined shopping experiences, and efficient logistics operations. The company's AI initiatives continue to set new standards for customer engagement and satisfaction.\n",
       "\n",
       "### Tesla\n",
       "Tesla's use of AI in self-driving cars and energy optimization is setting new benchmarks for autonomous vehicles and sustainable energy solutions. By incorporating AI technologies into its products, Tesla is revolutionizing transportation and energy sectors, paving the way for a future powered by intelligent systems.\n",
       "\n",
       "## Noteworthy News in Artificial Intelligence\n",
       "### Recent Breakthroughs in AI Research\n",
       "Researchers are constantly pushing the boundaries of AI through groundbreaking discoveries and innovations. From advancements in deep learning to ethical considerations in AI development, the latest news in AI research is shaping the future of technology and society.\n",
       "\n",
       "### Impact of AI on Job Automation\n",
       "As AI technologies continue to evolve, the impact on job automation and workforce changes is a significant consideration. Companies are adopting AI to streamline operations, leading to shifts in job roles and skill requirements. Understanding the implications of AI on the workforce is crucial for navigating the future of work.\n",
       "\n",
       "### Ethical Considerations in AI Development\n",
       "Ethical considerations in AI development and deployment are essential for ensuring responsible and sustainable AI solutions. From bias in algorithms to data privacy concerns, addressing ethical challenges in AI is crucial for building trust and transparency in AI systems.\n",
       "\n",
       "## Conclusion\n",
       "The rise of Artificial Intelligence is reshaping industries and driving innovation across various sectors. By exploring the latest trends and key players in the AI industry, we gain insights into the future of technology and the transformative power of intelligent systems. Stay informed about AI trends and engage in discussions to be part of the evolving landscape of Artificial Intelligence."
      ],
      "text/plain": [
       "<IPython.core.display.Markdown object>"
      ]
     },
     "execution_count": 31,
     "metadata": {},
     "output_type": "execute_result"
    }
   ],
   "source": [
    "print(f\"Model: {model}\")\n",
    "Markdown(result)"
   ]
  }
 ],
 "metadata": {
  "kernelspec": {
   "display_name": "jupyter-env",
   "language": "python",
   "name": "python3"
  },
  "language_info": {
   "codemirror_mode": {
    "name": "ipython",
    "version": 3
   },
   "file_extension": ".py",
   "mimetype": "text/x-python",
   "name": "python",
   "nbconvert_exporter": "python",
   "pygments_lexer": "ipython3",
   "version": "3.12.3"
  }
 },
 "nbformat": 4,
 "nbformat_minor": 4
}
